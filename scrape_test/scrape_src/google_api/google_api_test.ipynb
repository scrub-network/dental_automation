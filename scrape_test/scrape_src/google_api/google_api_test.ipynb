{
 "cells": [
  {
   "cell_type": "code",
   "execution_count": 7,
   "metadata": {},
   "outputs": [
    {
     "ename": "ModuleNotFoundError",
     "evalue": "No module named 'bard'",
     "output_type": "error",
     "traceback": [
      "\u001b[0;31m---------------------------------------------------------------------------\u001b[0m",
      "\u001b[0;31mModuleNotFoundError\u001b[0m                       Traceback (most recent call last)",
      "\u001b[1;32m/Volumes/Programming/dental_automation/scrape_test/scrape_src/google_api_test.ipynb Cell 1\u001b[0m line \u001b[0;36m1\n\u001b[0;32m----> <a href='vscode-notebook-cell:/Volumes/Programming/dental_automation/scrape_test/scrape_src/google_api_test.ipynb#W0sZmlsZQ%3D%3D?line=0'>1</a>\u001b[0m \u001b[39mimport\u001b[39;00m \u001b[39mbard\u001b[39;00m\n\u001b[1;32m      <a href='vscode-notebook-cell:/Volumes/Programming/dental_automation/scrape_test/scrape_src/google_api_test.ipynb#W0sZmlsZQ%3D%3D?line=2'>3</a>\u001b[0m \u001b[39m# Create a new Bard client instance.\u001b[39;00m\n\u001b[1;32m      <a href='vscode-notebook-cell:/Volumes/Programming/dental_automation/scrape_test/scrape_src/google_api_test.ipynb#W0sZmlsZQ%3D%3D?line=3'>4</a>\u001b[0m client \u001b[39m=\u001b[39m bard\u001b[39m.\u001b[39mClient(service_account_json_key_file_path\u001b[39m=\u001b[39m\u001b[39m'\u001b[39m\u001b[39mcredentials.json\u001b[39m\u001b[39m'\u001b[39m)\n",
      "\u001b[0;31mModuleNotFoundError\u001b[0m: No module named 'bard'"
     ]
    }
   ],
   "source": [
    "import bard\n",
    "\n",
    "# Create a new Bard client instance.\n",
    "client = bard.Client(service_account_json_key_file_path='credentials.json')\n",
    "\n",
    "# Send a request to the Bard API with the text prompt \"What is the meaning of life?\".\n",
    "response = client.request(text_prompt='What is the meaning of life?')\n",
    "\n",
    "# Parse the response from Bard.\n",
    "answer = response.answer\n",
    "\n",
    "# Print the answer to the console.\n",
    "print(answer)\n"
   ]
  }
 ],
 "metadata": {
  "kernelspec": {
   "display_name": "base",
   "language": "python",
   "name": "python3"
  },
  "language_info": {
   "codemirror_mode": {
    "name": "ipython",
    "version": 3
   },
   "file_extension": ".py",
   "mimetype": "text/x-python",
   "name": "python",
   "nbconvert_exporter": "python",
   "pygments_lexer": "ipython3",
   "version": "3.9.12"
  },
  "orig_nbformat": 4
 },
 "nbformat": 4,
 "nbformat_minor": 2
}
