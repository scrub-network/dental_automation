{
 "cells": [
  {
   "cell_type": "code",
   "execution_count": 10,
   "metadata": {},
   "outputs": [
    {
     "ename": "TypeError",
     "evalue": "'NoneType' object is not subscriptable",
     "output_type": "error",
     "traceback": [
      "\u001b[0;31m---------------------------------------------------------------------------\u001b[0m",
      "\u001b[0;31mTypeError\u001b[0m                                 Traceback (most recent call last)",
      "\u001b[1;32m/Volumes/Programming/dental_automation/scrape_test/scrape_src/bard_api.ipynb Cell 1\u001b[0m line \u001b[0;36m5\n\u001b[1;32m      <a href='vscode-notebook-cell:/Volumes/Programming/dental_automation/scrape_test/scrape_src/bard_api.ipynb#W0sZmlsZQ%3D%3D?line=1'>2</a>\u001b[0m \u001b[39mimport\u001b[39;00m \u001b[39mos\u001b[39;00m\n\u001b[1;32m      <a href='vscode-notebook-cell:/Volumes/Programming/dental_automation/scrape_test/scrape_src/bard_api.ipynb#W0sZmlsZQ%3D%3D?line=3'>4</a>\u001b[0m os\u001b[39m.\u001b[39menviron[\u001b[39m'\u001b[39m\u001b[39m_BARD_API_KEY\u001b[39m\u001b[39m'\u001b[39m]\u001b[39m=\u001b[39m\u001b[39m\"\u001b[39m\u001b[39mcwjqWQh4XC_9TY1qHddBsVEixs6q8KWl4bZ5yuilK3XBMbQUk3lZnhV_ha1PsC7mCVfzZQ.\u001b[39m\u001b[39m\"\u001b[39m\n\u001b[0;32m----> <a href='vscode-notebook-cell:/Volumes/Programming/dental_automation/scrape_test/scrape_src/bard_api.ipynb#W0sZmlsZQ%3D%3D?line=4'>5</a>\u001b[0m Bard()\u001b[39m.\u001b[39;49mget_answer(\u001b[39m\"\u001b[39;49m\u001b[39mWhat is the email address for Essenmacher Family Dental in 8310 Palomas Ave NE Suite C, Albuquerque, NM 87109, USA?\u001b[39;49m\u001b[39m\"\u001b[39;49m)[\u001b[39m'\u001b[39m\u001b[39mcontent\u001b[39m\u001b[39m'\u001b[39m]\n",
      "File \u001b[0;32m~/opt/anaconda3/lib/python3.9/site-packages/bardapi/core.py:112\u001b[0m, in \u001b[0;36mBard.get_answer\u001b[0;34m(self, input_text)\u001b[0m\n\u001b[1;32m    108\u001b[0m parsed_answer \u001b[39m=\u001b[39m json\u001b[39m.\u001b[39mloads(resp_dict)\n\u001b[1;32m    110\u001b[0m \u001b[39m# Returnd dictionary object\u001b[39;00m\n\u001b[1;32m    111\u001b[0m bard_answer \u001b[39m=\u001b[39m {\n\u001b[0;32m--> 112\u001b[0m     \u001b[39m\"\u001b[39m\u001b[39mcontent\u001b[39m\u001b[39m\"\u001b[39m: parsed_answer[\u001b[39m4\u001b[39;49m][\u001b[39m0\u001b[39;49m][\u001b[39m1\u001b[39m][\u001b[39m0\u001b[39m],\n\u001b[1;32m    113\u001b[0m     \u001b[39m\"\u001b[39m\u001b[39mconversation_id\u001b[39m\u001b[39m\"\u001b[39m: parsed_answer[\u001b[39m1\u001b[39m][\u001b[39m0\u001b[39m],\n\u001b[1;32m    114\u001b[0m     \u001b[39m\"\u001b[39m\u001b[39mresponse_id\u001b[39m\u001b[39m\"\u001b[39m: parsed_answer[\u001b[39m1\u001b[39m][\u001b[39m1\u001b[39m],\n\u001b[1;32m    115\u001b[0m     \u001b[39m\"\u001b[39m\u001b[39mfactualityQueries\u001b[39m\u001b[39m\"\u001b[39m: parsed_answer[\u001b[39m3\u001b[39m],\n\u001b[1;32m    116\u001b[0m     \u001b[39m\"\u001b[39m\u001b[39mtextQuery\u001b[39m\u001b[39m\"\u001b[39m: parsed_answer[\u001b[39m2\u001b[39m][\u001b[39m0\u001b[39m] \u001b[39mif\u001b[39;00m parsed_answer[\u001b[39m2\u001b[39m] \u001b[39melse\u001b[39;00m \u001b[39m\"\u001b[39m\u001b[39m\"\u001b[39m,\n\u001b[1;32m    117\u001b[0m     \u001b[39m\"\u001b[39m\u001b[39mchoices\u001b[39m\u001b[39m\"\u001b[39m: [{\u001b[39m\"\u001b[39m\u001b[39mid\u001b[39m\u001b[39m\"\u001b[39m: x[\u001b[39m0\u001b[39m], \u001b[39m\"\u001b[39m\u001b[39mcontent\u001b[39m\u001b[39m\"\u001b[39m: x[\u001b[39m1\u001b[39m]} \u001b[39mfor\u001b[39;00m x \u001b[39min\u001b[39;00m parsed_answer[\u001b[39m4\u001b[39m]],\n\u001b[1;32m    118\u001b[0m }\n\u001b[1;32m    119\u001b[0m \u001b[39mself\u001b[39m\u001b[39m.\u001b[39mconversation_id, \u001b[39mself\u001b[39m\u001b[39m.\u001b[39mresponse_id, \u001b[39mself\u001b[39m\u001b[39m.\u001b[39mchoice_id \u001b[39m=\u001b[39m (\n\u001b[1;32m    120\u001b[0m     bard_answer[\u001b[39m\"\u001b[39m\u001b[39mconversation_id\u001b[39m\u001b[39m\"\u001b[39m],\n\u001b[1;32m    121\u001b[0m     bard_answer[\u001b[39m\"\u001b[39m\u001b[39mresponse_id\u001b[39m\u001b[39m\"\u001b[39m],\n\u001b[1;32m    122\u001b[0m     bard_answer[\u001b[39m\"\u001b[39m\u001b[39mchoices\u001b[39m\u001b[39m\"\u001b[39m][\u001b[39m0\u001b[39m][\u001b[39m\"\u001b[39m\u001b[39mid\u001b[39m\u001b[39m\"\u001b[39m],\n\u001b[1;32m    123\u001b[0m )\n\u001b[1;32m    124\u001b[0m \u001b[39mself\u001b[39m\u001b[39m.\u001b[39m_reqid \u001b[39m+\u001b[39m\u001b[39m=\u001b[39m \u001b[39m100000\u001b[39m\n",
      "\u001b[0;31mTypeError\u001b[0m: 'NoneType' object is not subscriptable"
     ]
    }
   ],
   "source": [
    "from bardapi import Bard\n",
    "import os\n",
    "\n",
    "os.environ['_BARD_API_KEY']=\"cwjqWQh4XC_9TY1qHddBsVEixs6q8KWl4bZ5yuilK3XBMbQUk3lZnhV_ha1PsC7mCVfzZQ.\"\n",
    "Bard().get_answer(\"What is the email address for Essenmacher Family Dental in 8310 Palomas Ave NE Suite C, Albuquerque, NM 87109, USA?\")['content']"
   ]
  }
 ],
 "metadata": {
  "kernelspec": {
   "display_name": "base",
   "language": "python",
   "name": "python3"
  },
  "language_info": {
   "codemirror_mode": {
    "name": "ipython",
    "version": 3
   },
   "file_extension": ".py",
   "mimetype": "text/x-python",
   "name": "python",
   "nbconvert_exporter": "python",
   "pygments_lexer": "ipython3",
   "version": "3.9.12"
  }
 },
 "nbformat": 4,
 "nbformat_minor": 2
}
